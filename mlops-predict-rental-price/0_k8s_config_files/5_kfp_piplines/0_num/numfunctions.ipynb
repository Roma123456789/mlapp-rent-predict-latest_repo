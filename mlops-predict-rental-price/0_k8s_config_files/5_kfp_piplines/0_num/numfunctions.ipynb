{
 "cells": [
  {
   "cell_type": "code",
   "execution_count": 3,
   "id": "7318556e-bacf-4536-8af3-a85331fc882c",
   "metadata": {},
   "outputs": [],
   "source": [
    "# pip install kfp"
   ]
  },
  {
   "cell_type": "code",
   "execution_count": 4,
   "id": "ae2694c4-278a-4585-b051-1034761f5861",
   "metadata": {},
   "outputs": [],
   "source": [
    "from kfp import dsl"
   ]
  },
  {
   "cell_type": "code",
   "execution_count": 6,
   "id": "8b8eb437-a212-4819-9234-0f16e724d785",
   "metadata": {},
   "outputs": [],
   "source": [
    "@dsl.component\n",
    "def f1(a: int, b: int) -> int:\n",
    "    return a + b\n",
    "\n",
    "@dsl.component\n",
    "def f2(a: int, b: int) -> int:\n",
    "    return a - b\n",
    "\n",
    "@dsl.component\n",
    "def f3(a: int, b: int) -> int:\n",
    "    return a*b"
   ]
  },
  {
   "cell_type": "code",
   "execution_count": 28,
   "id": "b809eb25-78b8-4863-84eb-6d449aa8cbc3",
   "metadata": {},
   "outputs": [],
   "source": [
    "@dsl.pipeline\n",
    "def numpipeline(a: int, b: int) -> int:\n",
    "    task1 = f1(a=a,b=b)\n",
    "    task2 = f2(a=a,b=b)\n",
    "    task3 = f3(a=task1.output,b=task2.output)\n",
    "    return task3.output"
   ]
  },
  {
   "cell_type": "code",
   "execution_count": 29,
   "id": "b3006978-d7b3-457a-b22e-121668e23f71",
   "metadata": {},
   "outputs": [],
   "source": [
    "from kfp import compiler\n",
    "\n",
    "compiler.Compiler().compile(numpipeline, 'numpipeline.yaml')"
   ]
  },
  {
   "cell_type": "code",
   "execution_count": null,
   "id": "bc533a4f-f3a5-4093-9e6a-62c14aef6fbc",
   "metadata": {},
   "outputs": [],
   "source": []
  }
 ],
 "metadata": {
  "kernelspec": {
   "display_name": "Python 3 (ipykernel)",
   "language": "python",
   "name": "python3"
  },
  "language_info": {
   "codemirror_mode": {
    "name": "ipython",
    "version": 3
   },
   "file_extension": ".py",
   "mimetype": "text/x-python",
   "name": "python",
   "nbconvert_exporter": "python",
   "pygments_lexer": "ipython3",
   "version": "3.12.5"
  }
 },
 "nbformat": 4,
 "nbformat_minor": 5
}
